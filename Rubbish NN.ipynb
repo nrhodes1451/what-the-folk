{
 "cells": [
  {
   "cell_type": "code",
   "execution_count": 1,
   "metadata": {},
   "outputs": [
    {
     "name": "stderr",
     "output_type": "stream",
     "text": [
      "Using TensorFlow backend.\n"
     ]
    }
   ],
   "source": [
    "import pickle\n",
    "import pandas as pd\n",
    "from textgenrnn import textgenrnn\n",
    "\n",
    "textgen = textgenrnn()\n",
    "\n",
    "features = pickle.load(open(\"complete_features.p\", \"rb\" ))"
   ]
  },
  {
   "cell_type": "code",
   "execution_count": 9,
   "metadata": {},
   "outputs": [
    {
     "data": {
      "text/plain": [
       "(21861, 6)"
      ]
     },
     "execution_count": 9,
     "metadata": {},
     "output_type": "execute_result"
    }
   ],
   "source": [
    "df = pd.DataFrame(features).drop(\"complete\", 1)\n",
    "df.shape"
   ]
  },
  {
   "cell_type": "code",
   "execution_count": 10,
   "metadata": {},
   "outputs": [],
   "source": [
    "#df = df.tail(1000)\n",
    "df.to_csv('21000 tunes.csv', columns = [\"tune\"], index = False)"
   ]
  },
  {
   "cell_type": "code",
   "execution_count": 12,
   "metadata": {
    "scrolled": true
   },
   "outputs": [],
   "source": [
    "# Train model\n",
    "#textgen.train_from_file('21000 tunes.csv',\n",
    "#                        num_epochs=1,\n",
    "#                        is_csv=True)\n",
    "# Save model\n",
    "textgen.save(weights_path='tunes 21000.hdf5')"
   ]
  },
  {
   "cell_type": "code",
   "execution_count": 13,
   "metadata": {},
   "outputs": [],
   "source": [
    "# Load model\n",
    "rubbish = textgenrnn('tunes 21000.hdf5')"
   ]
  },
  {
   "cell_type": "code",
   "execution_count": 14,
   "metadata": {},
   "outputs": [
    {
     "name": "stderr",
     "output_type": "stream",
     "text": [
      "100%|██████████████████████████████████████████████████████████████████████████████████| 10/10 [00:31<00:00,  2.68s/it]\n"
     ]
    }
   ],
   "source": [
    "# Generate sentences\n",
    "generated_tunes = rubbish.generate(10,\n",
    "                                   temperature = 0.5,\n",
    "                                   return_as_list = True,\n",
    "                                   progress = True)\n",
    "# Save to CSV\n",
    "df_tunes = pd.DataFrame(generated_tunes, columns=[\"Line\"])\n",
    "df_tunes.to_csv(\"0.5 tunes.csv\", index = False)"
   ]
  },
  {
   "cell_type": "code",
   "execution_count": 16,
   "metadata": {},
   "outputs": [
    {
     "data": {
      "text/html": [
       "<div>\n",
       "<style scoped>\n",
       "    .dataframe tbody tr th:only-of-type {\n",
       "        vertical-align: middle;\n",
       "    }\n",
       "\n",
       "    .dataframe tbody tr th {\n",
       "        vertical-align: top;\n",
       "    }\n",
       "\n",
       "    .dataframe thead th {\n",
       "        text-align: right;\n",
       "    }\n",
       "</style>\n",
       "<table border=\"1\" class=\"dataframe\">\n",
       "  <thead>\n",
       "    <tr style=\"text-align: right;\">\n",
       "      <th></th>\n",
       "      <th>Line</th>\n",
       "    </tr>\n",
       "  </thead>\n",
       "  <tbody>\n",
       "    <tr>\n",
       "      <th>0</th>\n",
       "      <td>M:C| A2BA BAGA|BAGA BAGE|DGBG AGED|GBAG EDEF| ...</td>\n",
       "    </tr>\n",
       "    <tr>\n",
       "      <th>1</th>\n",
       "      <td>M:C| A2 AB A2 AB|A2 A2 A2 A2|A2 AA A2 A2|A2 A2...</td>\n",
       "    </tr>\n",
       "    <tr>\n",
       "      <th>2</th>\n",
       "      <td>|: B2|A2 A2 A2 A2|A2 A2 A2 A2|B2 A2 A2 G2|A2 A...</td>\n",
       "    </tr>\n",
       "    <tr>\n",
       "      <th>3</th>\n",
       "      <td>D2 | G2 A2 G2 | A2 G2 A2 | A4 G2 | A2 A2 A2 | ...</td>\n",
       "    </tr>\n",
       "    <tr>\n",
       "      <th>4</th>\n",
       "      <td>|: A | \"G\"BG \"A7\"A d | \"A\"A A B | \"A\"A c B | \"...</td>\n",
       "    </tr>\n",
       "    <tr>\n",
       "      <th>5</th>\n",
       "      <td>|: B | \"D\"AFD FAF | \"Em\"EFE EFG | \"D\"FAF DEF |...</td>\n",
       "    </tr>\n",
       "    <tr>\n",
       "      <th>6</th>\n",
       "      <td>M:C| | \"G\"B&gt;AG&gt;A B&gt;AG&gt;A | \"D\"A&gt;FA&gt;D \"G\"G&gt;BA&gt;G ...</td>\n",
       "    </tr>\n",
       "    <tr>\n",
       "      <th>7</th>\n",
       "      <td>|: A&gt;B | c&gt;de&gt;f | g&gt;fe&gt;d | c&gt;AA&gt;B | A&gt;dc&gt;d | c...</td>\n",
       "    </tr>\n",
       "    <tr>\n",
       "      <th>8</th>\n",
       "      <td>M:C| AFDD DA,DF|EDDE FDDD|FDDD FDDD|FADF ADFA|...</td>\n",
       "    </tr>\n",
       "    <tr>\n",
       "      <th>9</th>\n",
       "      <td>A |: \"G\"BAB \"A\"A2A | \"A\"A2A ABc | \"D\"d2e d2B |...</td>\n",
       "    </tr>\n",
       "  </tbody>\n",
       "</table>\n",
       "</div>"
      ],
      "text/plain": [
       "                                                Line\n",
       "0  M:C| A2BA BAGA|BAGA BAGE|DGBG AGED|GBAG EDEF| ...\n",
       "1  M:C| A2 AB A2 AB|A2 A2 A2 A2|A2 AA A2 A2|A2 A2...\n",
       "2  |: B2|A2 A2 A2 A2|A2 A2 A2 A2|B2 A2 A2 G2|A2 A...\n",
       "3  D2 | G2 A2 G2 | A2 G2 A2 | A4 G2 | A2 A2 A2 | ...\n",
       "4  |: A | \"G\"BG \"A7\"A d | \"A\"A A B | \"A\"A c B | \"...\n",
       "5  |: B | \"D\"AFD FAF | \"Em\"EFE EFG | \"D\"FAF DEF |...\n",
       "6  M:C| | \"G\"B>AG>A B>AG>A | \"D\"A>FA>D \"G\"G>BA>G ...\n",
       "7  |: A>B | c>de>f | g>fe>d | c>AA>B | A>dc>d | c...\n",
       "8  M:C| AFDD DA,DF|EDDE FDDD|FDDD FDDD|FADF ADFA|...\n",
       "9  A |: \"G\"BAB \"A\"A2A | \"A\"A2A ABc | \"D\"d2e d2B |..."
      ]
     },
     "execution_count": 16,
     "metadata": {},
     "output_type": "execute_result"
    }
   ],
   "source": [
    "df_tunes\n"
   ]
  },
  {
   "cell_type": "code",
   "execution_count": null,
   "metadata": {},
   "outputs": [],
   "source": []
  }
 ],
 "metadata": {
  "kernelspec": {
   "display_name": "Python 3",
   "language": "python",
   "name": "python3"
  },
  "language_info": {
   "codemirror_mode": {
    "name": "ipython",
    "version": 3
   },
   "file_extension": ".py",
   "mimetype": "text/x-python",
   "name": "python",
   "nbconvert_exporter": "python",
   "pygments_lexer": "ipython3",
   "version": "3.7.3"
  }
 },
 "nbformat": 4,
 "nbformat_minor": 2
}
