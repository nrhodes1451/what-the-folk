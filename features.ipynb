{
 "cells": [
  {
   "cell_type": "code",
   "execution_count": 1,
   "metadata": {},
   "outputs": [
    {
     "name": "stdout",
     "output_type": "stream",
     "text": [
      "87145\n",
      "285557\n"
     ]
    }
   ],
   "source": [
    "import pickle\n",
    "import re\n",
    "import pandas as pd\n",
    "\n",
    "notes = pickle.load(open(\"pickle/notes.p\", \"rb\" ))\n",
    "links = pickle.load(open(\"pickle/links.p\", \"rb\" ))\n",
    "\n",
    "print(len(notes))\n",
    "print(len(links))"
   ]
  },
  {
   "cell_type": "code",
   "execution_count": 8,
   "metadata": {},
   "outputs": [],
   "source": [
    "def process_abc_note(note):\n",
    "    lines = note.strip().splitlines()\n",
    "    title = [x for x in lines if re.compile(\"T:\").match(x)]\n",
    "    title = title[0].split(\":\")[1].strip() if len(title)>0 else None\n",
    "\n",
    "    time = [x for x in lines if re.compile(\"M:\").match(x)]\n",
    "    time = time[0].split(\":\")[1].strip() if len(time)>0 else None\n",
    "\n",
    "    length = [x for x in lines if re.compile(\"L:\").match(x)]\n",
    "    length = length[0].split(\":\")[1].strip() if len(length)>0 else None\n",
    "\n",
    "    tune_type = [x for x in lines if re.compile(\"R:\").match(x)]\n",
    "    tune_type = tune_type[0].split(\":\")[1].strip() if len(tune_type)>0 else None\n",
    "\n",
    "    keyindex = [i for i, x in enumerate(lines) if re.compile(\"K:\").match(x)]\n",
    "    key = lines[keyindex[0]].split(\":\")[1].strip() if len(keyindex)>0 else None\n",
    "    keyindex = 0 if len(keyindex)==0 else keyindex[0]\n",
    "\n",
    "    tune = [x for x in lines[keyindex:] if re.compile(\".*\\\\|\").match(x)]\n",
    "    tune = \"\".join(tune) if len(tune)>0 else None\n",
    "    \n",
    "    barsearch = re.compile(\":?\\|+:?\\]?\")\n",
    "    bars = None\n",
    "    if tune is not None:\n",
    "        bars = [bar for bar in barsearch.split(tune) if bar!=\"\"]\n",
    "        barlines = barsearch.findall(tune)\n",
    "        bars = [b+l for b, l in zip(bars,barlines)]\n",
    "\n",
    "    features = {\n",
    "        \"title\": title,\n",
    "        \"time\": time,\n",
    "        \"length\": length,\n",
    "        \"tune_type\": tune_type,\n",
    "        \"key\": key,\n",
    "        \"tune\": tune,\n",
    "        \"bars\": bars,\n",
    "        \"opening\": None,\n",
    "        \"middle\": None,\n",
    "        \"ending\": None,\n",
    "        \"full_text\": note\n",
    "    }\n",
    "    \n",
    "    if bars is not None:\n",
    "        features[\"opening\"] = bars[:4]\n",
    "        features[\"middle\"] = bars[-4:4]\n",
    "        features[\"ending\"] = bars[-4:]\n",
    "    \n",
    "    features[\"complete\"] = None not in features.values()\n",
    "    return(features)"
   ]
  },
  {
   "cell_type": "code",
   "execution_count": 11,
   "metadata": {},
   "outputs": [
    {
     "data": {
      "text/plain": [
       "87145"
      ]
     },
     "execution_count": 11,
     "metadata": {},
     "output_type": "execute_result"
    }
   ],
   "source": [
    "features = [process_abc_note(note) for note in notes]\n",
    "pickle.dump(features, open(\"pickle/features.p\", \"wb\"))\n",
    "len(features)"
   ]
  },
  {
   "cell_type": "code",
   "execution_count": 12,
   "metadata": {},
   "outputs": [
    {
     "data": {
      "text/plain": [
       "45150"
      ]
     },
     "execution_count": 12,
     "metadata": {},
     "output_type": "execute_result"
    }
   ],
   "source": [
    "complete_features = [x for x in features if x['complete']]\n",
    "\n",
    "pickle.dump(complete_features, open(\"pickle/complete_features.p\", \"wb\"))\n",
    "len(complete_features)"
   ]
  },
  {
   "cell_type": "code",
   "execution_count": null,
   "metadata": {},
   "outputs": [],
   "source": []
  }
 ],
 "metadata": {
  "kernelspec": {
   "display_name": "Python 3",
   "language": "python",
   "name": "python3"
  },
  "language_info": {
   "codemirror_mode": {
    "name": "ipython",
    "version": 3
   },
   "file_extension": ".py",
   "mimetype": "text/x-python",
   "name": "python",
   "nbconvert_exporter": "python",
   "pygments_lexer": "ipython3",
   "version": "3.7.3"
  }
 },
 "nbformat": 4,
 "nbformat_minor": 2
}
