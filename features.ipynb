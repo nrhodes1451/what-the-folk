{
 "cells": [
  {
   "cell_type": "code",
   "execution_count": 128,
   "metadata": {},
   "outputs": [],
   "source": [
    "import pickle\n",
    "import re\n",
    "\n",
    "notes = pickle.load(open(\"notes.p\", \"rb\" ))\n",
    "links = pickle.load(open(\"links.p\", \"rb\" ))"
   ]
  },
  {
   "cell_type": "code",
   "execution_count": 129,
   "metadata": {},
   "outputs": [
    {
     "data": {
      "text/plain": [
       "32374"
      ]
     },
     "execution_count": 129,
     "metadata": {},
     "output_type": "execute_result"
    }
   ],
   "source": [
    "len(notes)"
   ]
  },
  {
   "cell_type": "code",
   "execution_count": 130,
   "metadata": {},
   "outputs": [],
   "source": [
    "def process_abc_note(note):\n",
    "    lines = note.splitlines()\n",
    "    title = [x for x in lines if re.compile(\"T:\").match(x)]\n",
    "    title = title[0].split(\":\")[1] if len(title)>0 else None\n",
    "\n",
    "    time = [x for x in lines if re.compile(\"M:\").match(x)]\n",
    "    time = time[0].split(\":\")[1] if len(time)>0 else None\n",
    "\n",
    "    length = [x for x in lines if re.compile(\"L:\").match(x)]\n",
    "    length = length[0].split(\":\")[1] if len(length)>0 else None\n",
    "\n",
    "    tune_type = [x for x in lines if re.compile(\"R:\").match(x)]\n",
    "    tune_type = tune_type[0].split(\":\")[1] if len(tune_type)>0 else None\n",
    "\n",
    "    key = [x for x in lines if re.compile(\"K:\").match(x)]\n",
    "    key = key[0].split(\":\")[1] if len(key)>0 else None\n",
    "\n",
    "    tune = [x for x in lines if re.compile(\".*\\\\|\").match(x)]\n",
    "    tune = \" \".join(tune) if len(tune)>0 else None\n",
    "\n",
    "    features = {\n",
    "        \"title\": title,\n",
    "        \"time\": time,\n",
    "        \"length\": length,\n",
    "        \"tune_type\": tune_type,\n",
    "        \"key\": key,\n",
    "        \"tune\": tune\n",
    "    }\n",
    "    features[\"complete\"] = None not in features.values()\n",
    "    return(features)"
   ]
  },
  {
   "cell_type": "code",
   "execution_count": 131,
   "metadata": {},
   "outputs": [
    {
     "data": {
      "text/plain": [
       "32374"
      ]
     },
     "execution_count": 131,
     "metadata": {},
     "output_type": "execute_result"
    }
   ],
   "source": [
    "features = [process_abc_note(note) for note in notes]\n",
    "pickle.dump(features, open(\"features.p\", \"wb\"))\n",
    "len(features)"
   ]
  },
  {
   "cell_type": "code",
   "execution_count": 132,
   "metadata": {},
   "outputs": [
    {
     "data": {
      "text/plain": [
       "16076"
      ]
     },
     "execution_count": 132,
     "metadata": {},
     "output_type": "execute_result"
    }
   ],
   "source": [
    "complete_features = [x for x in features if x['complete']]\n",
    "pickle.dump(complete_features, open(\"complete_features.p\", \"wb\"))\n",
    "len(complete_features)"
   ]
  },
  {
   "cell_type": "code",
   "execution_count": 135,
   "metadata": {},
   "outputs": [
    {
     "data": {
      "text/plain": [
       "{'title': ' The Bucks Of Oranmore',\n",
       " 'time': ' 4/4',\n",
       " 'length': ' 1/8',\n",
       " 'tune_type': ' reel',\n",
       " 'key': ' Dmaj',\n",
       " 'tune': 'dB|{G}A2FA ~A2dB|~A2FA BE~E2|~A2FB ~A2B/c/d|ed{g}fd efdB| ~A2FA- ~A2dB|AzFA BE~E2|DE{F}ED ~A3B|dzfd efdB| AD~D2 ADBD|AD~D2 BE~E2|AD~D2 ~A3B|dzfd efdB| AD~D2 AD~D2|AD~D2 BE~E2|~D3F ~A3B|dzfd efdf|| Ja2{g}fd efdf|adfd edB/c/d|azfd ~e3f|{g}fe{f}ed edB/c/d| azfd efdf|adfd edB/c/d|fa~a2 bzaf|ea{g}fd efdf-|| ~f2df efdf-|~f2df {f}edB/c/d|~f2df ~e3f|{g}fe{f}ed edB/c/d| fzdf efdf-|~f2df {f}edB/c/d|fa~a2 bzaf|ea{g}fd efdB|| Ad{g}fd ed{g}fd|Ad{g}fd edB/c/d|azfd ~e3f|{g}fe{f}ed edB/c/d| Ad{g}fd ed{g}fd|Ad{g}fd edB/c/d|fa~a2 bzaf|ea{g}fd efdB|| ~A2FA- ~A2dB|~A2FA BE~E2|~A2FB AzB/c/d|gBfB eBdB| ~A2DA- ~A2DA-|~A2Fz BE~E2|DE{F}ED ~A3B|dzfd efdB| AD~D2 ADBD|AD~D2 BE~E2|AD~D2 ~A3B|dzfd efdB| AD~D2 ADBD|AD~D2 BE~E2|d2fd ~A3B|dzfd efdf|| Ja2fd efdf|ad{g}fd edB/c/d|azfd ~e3f|{g}fe{f}ed edB/c/d| ~a2fd efdf|ad{g}fd edB/c/d|fa~a2 bzaf|ea{g}fd efdg|| ~f2df efdf-|~f2df {f}edB/c/d|fzdf ~e3f|{g}fe{f}ed edB/c/d| ~f2dz efdf-|~f2df {f}edB/c/d|fa~a2 bzaf|ea{g}fd efdB|| Ad{g}fd ed{g}fd|Ad{g}fd edB/c/d|azfd ~e3f|{g}fe{f}ed edB/c/d| Ad{g}fd ed{g}fd|Ad{g}fd edB/c/d|fa~a2 bzaf|ea{g}fd efdB|| ~A2FA- ~A2dB|AzFA BE~E2|~A2FB ~A2B/c/d|gdfd efdB| ~A2FA- ~A2dB|~A2Fz BE~E2|DE{A}FD ~A3B|dzfd efdB| AD~D2 ADBD|AD~D2 BE~E2|AD~D2 ~A3B|dzfd efdB| AD~D2 AD~D2|AD~D2 BE~E2|dzfd ~A3B|defd efgb|| azfd efdf|adfd edB/c/d|~a2fd ~e3f|{g}fe{f}ed edB/c/d| azfd efdf|adfd edB/c/d|fa~a2 bzaf|ea{g}fd efdf-|| ~f2df efdf-|~f2df {f}edB/c/d|~f2df ~e3f|gzfd edB/c/d| ~f2df efdf-|~f2df {f}edB/c/d|fa~a2 bzaf|ea{g}fd efdB|| Ad{g}fd ed{g}fd|Ad{g}fd edB/c/d|azfd ~e3f|{g}fe{f}ed edB/c/d| Ad{g}fd ed{g}fd|Ad{g}fd edB/c/d|fa~a2 ba{b}af|ea{g}fd efdB||A2.F.E D4||',\n",
       " 'complete': True}"
      ]
     },
     "execution_count": 135,
     "metadata": {},
     "output_type": "execute_result"
    }
   ],
   "source": [
    "complete_features[16075]"
   ]
  },
  {
   "cell_type": "code",
   "execution_count": null,
   "metadata": {},
   "outputs": [],
   "source": []
  }
 ],
 "metadata": {
  "kernelspec": {
   "display_name": "Python 3",
   "language": "python",
   "name": "python3"
  },
  "language_info": {
   "codemirror_mode": {
    "name": "ipython",
    "version": 3
   },
   "file_extension": ".py",
   "mimetype": "text/x-python",
   "name": "python",
   "nbconvert_exporter": "python",
   "pygments_lexer": "ipython3",
   "version": "3.6.8"
  }
 },
 "nbformat": 4,
 "nbformat_minor": 2
}
