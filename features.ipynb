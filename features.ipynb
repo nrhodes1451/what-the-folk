{
 "cells": [
  {
   "cell_type": "code",
   "execution_count": 21,
   "metadata": {},
   "outputs": [
    {
     "name": "stdout",
     "output_type": "stream",
     "text": [
      "137917\n",
      "285557\n"
     ]
    }
   ],
   "source": [
    "import pickle\n",
    "import re\n",
    "import pandas as pd\n",
    "\n",
    "notes1 = pickle.load(open(\"pickle/notes1-100000.p\", \"rb\" ))\n",
    "notes2 = pickle.load(open(\"pickle/notes100000-200000.p\", \"rb\" ))\n",
    "notes = notes1 + notes2\n",
    "\n",
    "links = pickle.load(open(\"pickle/links.p\", \"rb\" ))\n",
    "\n",
    "print(len(notes))\n",
    "print(len(links))"
   ]
  },
  {
   "cell_type": "code",
   "execution_count": 36,
   "metadata": {},
   "outputs": [],
   "source": [
    "def process_abc_note(note):\n",
    "    lines = note.strip().splitlines()\n",
    "    title = [x for x in lines if re.compile(\"T:\").match(x)]\n",
    "    title = title[0].split(\":\")[1].strip() if len(title)>0 else None\n",
    "\n",
    "    time = [x for x in lines if re.compile(\"M:\").match(x)]\n",
    "    time = time[0].split(\":\")[1].strip() if len(time)>0 else None\n",
    "\n",
    "    length = [x for x in lines if re.compile(\"L:\").match(x)]\n",
    "    length = length[0].split(\":\")[1].strip() if len(length)>0 else None\n",
    "\n",
    "    tune_type = [x for x in lines if re.compile(\"R:\").match(x)]\n",
    "    tune_type = tune_type[0].split(\":\")[1].strip() if len(tune_type)>0 else None\n",
    "\n",
    "    keyindex = [i for i, x in enumerate(lines) if re.compile(\"K:\").match(x)]\n",
    "    key = lines[keyindex[0]].split(\":\")[1].strip() if len(keyindex)>0 else None\n",
    "    keyindex = 0 if len(keyindex)==0 else keyindex[0]\n",
    "\n",
    "    tune = [x for x in lines[keyindex:] if re.compile(\".*\\\\|\").match(x)]\n",
    "    tune = \"\".join(tune) if len(tune)>0 else None\n",
    "    \n",
    "    barsearch = re.compile(\":?\\|+:?\\]?\")\n",
    "    bars = None\n",
    "    if tune is not None:\n",
    "        bars = [bar for bar in barsearch.split(tune) if bar!=\"\"]\n",
    "        barlines = barsearch.findall(tune)\n",
    "        bars = [b+l for b, l in zip(bars,barlines)]\n",
    "\n",
    "    features = {\n",
    "        \"title\": title,\n",
    "        \"time\": time,\n",
    "        \"length\": length,\n",
    "        \"tune_type\": tune_type,\n",
    "        \"key\": key,\n",
    "        \"tune\": tune,\n",
    "        \"bars\": bars,\n",
    "        \"opening\": None,\n",
    "        \"middle\": None,\n",
    "        \"ending\": None,\n",
    "        \"full_text\": note\n",
    "    }\n",
    "    \n",
    "    if bars is not None:\n",
    "        features[\"opening\"] = bars[:4]\n",
    "        features[\"middle\"] = bars[4:-4]\n",
    "        features[\"ending\"] = bars[-4:]\n",
    "    \n",
    "    features[\"complete\"] = None not in features.values()\n",
    "    return(features)"
   ]
  },
  {
   "cell_type": "code",
   "execution_count": 37,
   "metadata": {},
   "outputs": [
    {
     "data": {
      "text/plain": [
       "137917"
      ]
     },
     "execution_count": 37,
     "metadata": {},
     "output_type": "execute_result"
    }
   ],
   "source": [
    "features = [process_abc_note(note) for note in notes]\n",
    "pickle.dump(features, open(\"pickle/features.p\", \"wb\"))\n",
    "len(features)"
   ]
  },
  {
   "cell_type": "code",
   "execution_count": 38,
   "metadata": {},
   "outputs": [
    {
     "data": {
      "text/plain": [
       "71468"
      ]
     },
     "execution_count": 38,
     "metadata": {},
     "output_type": "execute_result"
    }
   ],
   "source": [
    "complete_features = [x for x in features if x['complete']]\n",
    "\n",
    "pickle.dump(complete_features, open(\"pickle/complete_features.p\", \"wb\"))\n",
    "len(complete_features)"
   ]
  },
  {
   "cell_type": "code",
   "execution_count": 39,
   "metadata": {},
   "outputs": [],
   "source": [
    "df = pd.DataFrame(complete_features)"
   ]
  },
  {
   "cell_type": "code",
   "execution_count": 43,
   "metadata": {},
   "outputs": [
    {
     "data": {
      "text/plain": [
       "['[P:A] G |', '\"C\"czc |', ' czd |', ' eze |']"
      ]
     },
     "execution_count": 43,
     "metadata": {},
     "output_type": "execute_result"
    }
   ],
   "source": [
    "df['opening'][0]"
   ]
  },
  {
   "cell_type": "code",
   "execution_count": 45,
   "metadata": {},
   "outputs": [
    {
     "data": {
      "text/plain": [
       "['1 b3 |', ' g3 :|', '2 fdb |', ' \"C\"c\\'3 |]']"
      ]
     },
     "execution_count": 45,
     "metadata": {},
     "output_type": "execute_result"
    }
   ],
   "source": [
    "df['ending'][0]"
   ]
  },
  {
   "cell_type": "code",
   "execution_count": 50,
   "metadata": {},
   "outputs": [
    {
     "data": {
      "text/plain": [
       "bars         [[P:A] G |, \"C\"czc |,  czd |,  eze |,  ezg |, ...\n",
       "complete                                                  True\n",
       "ending                   [1 b3 |,  g3 :|, 2 fdb |,  \"C\"c'3 |]]\n",
       "full_text    \\nX:1\\nT:01 Und wenn's im Tal scho nachte tuet...\n",
       "key                                          C %%MIDI gchordon\n",
       "length                                                     1/4\n",
       "middle       [ ezg |,  gzc |,  azg |,  (\"G7\"d3 |,  d)zg |, ...\n",
       "opening                  [[P:A] G |, \"C\"czc |,  czd |,  eze |]\n",
       "time                                                       3/4\n",
       "title        01 Und wenn's im Tal scho nachte tuet. Walzer ...\n",
       "tune         [P:A] G |\"C\"czc | czd | eze | ezg | gzc | azg ...\n",
       "tune_type                                               Walzer\n",
       "Name: 0, dtype: object"
      ]
     },
     "execution_count": 50,
     "metadata": {},
     "output_type": "execute_result"
    }
   ],
   "source": [
    "df.iloc()[0]"
   ]
  },
  {
   "cell_type": "code",
   "execution_count": 52,
   "metadata": {},
   "outputs": [
    {
     "name": "stdout",
     "output_type": "stream",
     "text": [
      "\n",
      "X:1\n",
      "T:01 Und wenn's im Tal scho nachte tuet. Walzer  C  (wz07869)\n",
      "S:Hanny Christen. Bd.V  Basel II, Jura. S.208  (wz07869) orig. C\n",
      "T: Basel II. \"Mundwilermusig\", Tenniken. S.183-219.\n",
      "S:Überliefert durch Hermann und Johannes Mundwiler und Ernst Otter.\n",
      "%P:ABC\n",
      "R:Walzer\n",
      "M:3/4\n",
      "L:1/4\n",
      "K:C %%MIDI gchordon\n",
      "[P:A] G |\"C\"czc | czd | eze | ezg | gzc | azg | (\"G7\"d3 | d)zg | bza | gzf | \n",
      "\"C\"egc' | gze | \"G7\"dza | gzf | (\"C\"e3 | e)zz [P:B] |: \"C\"G3 | EGc | e3 | c3 | \"G7\"dd/d/d | \n",
      "e2d |1 \"C\"cBA | G3 :|2 \"C\"c>cc | czG [P:C] |: \"C\"G2E | G2e | (c3 | c)zE | G2G | A2G | \n",
      "(\"G7\"F3 | F)zd | d2d | d2f | (d3 | d)zc | BzA |1 BzA | (\"C\"G3 | G)zG :|2 GzB | \n",
      "\"C\"czz |: [P:D] \"C\"gag | ece | \"G7\"gdd/d/ | dBd | g2a | fed |1 b3 | g3 :|2 fdb | \"C\"c'3 |] \n",
      "W:\n",
      "%W:Parts: ABCD\n",
      "%W:Anmerkung H.C.:\n",
      "%W:Anmerkung Hrsg,:\n",
      "% wz07869\n",
      "% Aug 18, 2018\n",
      "\n"
     ]
    }
   ],
   "source": [
    "print(df['full_text'][0])"
   ]
  },
  {
   "cell_type": "code",
   "execution_count": null,
   "metadata": {},
   "outputs": [],
   "source": []
  }
 ],
 "metadata": {
  "kernelspec": {
   "display_name": "Python 3",
   "language": "python",
   "name": "python3"
  },
  "language_info": {
   "codemirror_mode": {
    "name": "ipython",
    "version": 3
   },
   "file_extension": ".py",
   "mimetype": "text/x-python",
   "name": "python",
   "nbconvert_exporter": "python",
   "pygments_lexer": "ipython3",
   "version": "3.6.8"
  }
 },
 "nbformat": 4,
 "nbformat_minor": 2
}
