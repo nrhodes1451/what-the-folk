{
 "cells": [
  {
   "cell_type": "code",
   "execution_count": 9,
   "metadata": {},
   "outputs": [],
   "source": [
    "import pickle\n",
    "import re\n",
    "\n",
    "notes = pickle.load(open(\"notes.p\", \"rb\" ))\n",
    "links = pickle.load(open(\"links.p\", \"rb\" ))"
   ]
  },
  {
   "cell_type": "code",
   "execution_count": 10,
   "metadata": {},
   "outputs": [
    {
     "data": {
      "text/plain": [
       "55019"
      ]
     },
     "execution_count": 10,
     "metadata": {},
     "output_type": "execute_result"
    }
   ],
   "source": [
    "len(notes)"
   ]
  },
  {
   "cell_type": "code",
   "execution_count": 11,
   "metadata": {},
   "outputs": [],
   "source": [
    "def process_abc_note(note):\n",
    "    lines = note.splitlines()\n",
    "    title = [x for x in lines if re.compile(\"T:\").match(x)]\n",
    "    title = title[0].split(\":\")[1] if len(title)>0 else None\n",
    "\n",
    "    time = [x for x in lines if re.compile(\"M:\").match(x)]\n",
    "    time = time[0].split(\":\")[1] if len(time)>0 else None\n",
    "\n",
    "    length = [x for x in lines if re.compile(\"L:\").match(x)]\n",
    "    length = length[0].split(\":\")[1] if len(length)>0 else None\n",
    "\n",
    "    tune_type = [x for x in lines if re.compile(\"R:\").match(x)]\n",
    "    tune_type = tune_type[0].split(\":\")[1] if len(tune_type)>0 else None\n",
    "\n",
    "    key = [x for x in lines if re.compile(\"K:\").match(x)]\n",
    "    key = key[0].split(\":\")[1] if len(key)>0 else None\n",
    "\n",
    "    tune = [x for x in lines if re.compile(\".*\\\\|\").match(x)]\n",
    "    tune = \" \".join(tune) if len(tune)>0 else None\n",
    "\n",
    "    features = {\n",
    "        \"title\": title,\n",
    "        \"time\": time,\n",
    "        \"length\": length,\n",
    "        \"tune_type\": tune_type,\n",
    "        \"key\": key,\n",
    "        \"tune\": tune\n",
    "    }\n",
    "    features[\"complete\"] = None not in features.values()\n",
    "    return(features)"
   ]
  },
  {
   "cell_type": "code",
   "execution_count": 12,
   "metadata": {},
   "outputs": [
    {
     "data": {
      "text/plain": [
       "55019"
      ]
     },
     "execution_count": 12,
     "metadata": {},
     "output_type": "execute_result"
    }
   ],
   "source": [
    "features = [process_abc_note(note) for note in notes]\n",
    "pickle.dump(features, open(\"features.p\", \"wb\"))\n",
    "len(features)"
   ]
  },
  {
   "cell_type": "code",
   "execution_count": 13,
   "metadata": {},
   "outputs": [
    {
     "data": {
      "text/plain": [
       "27965"
      ]
     },
     "execution_count": 13,
     "metadata": {},
     "output_type": "execute_result"
    }
   ],
   "source": [
    "complete_features = [x for x in features if x['complete']]\n",
    "pickle.dump(complete_features, open(\"complete_features.p\", \"wb\"))\n",
    "len(complete_features)"
   ]
  },
  {
   "cell_type": "code",
   "execution_count": 17,
   "metadata": {},
   "outputs": [
    {
     "data": {
      "text/plain": [
       "{'title': 'Daft Willie Dawson',\n",
       " 'time': 'C',\n",
       " 'length': '1/8',\n",
       " 'tune_type': 'Strathspey',\n",
       " 'key': 'D',\n",
       " 'tune': 'A | F<D D>D A,<D D>D | F<D D>G F/G/A/F/ D<F | G<E E>E B,>EE>F | G<E E>d c/d/e/c/ A<c | d<D D>D A,<D D>D | F<D D>G F/G/A/F/ D<F | G<B E<G F<A d>B | c/d/e/c/ A>c d<(D D) || g | f>da>d b>da>g | f<d d>g f/g/a/f/ d<f | g>eb>e g<e e>f|g<eb>e g/a/b/g/ e<g| f>da>d b>da>g |f<d d>g f/g/a/f/ d<f | g<b e<g f<a d<f | c/d/e/c/ A>c d<(D D) ||',\n",
       " 'complete': True}"
      ]
     },
     "execution_count": 17,
     "metadata": {},
     "output_type": "execute_result"
    }
   ],
   "source": [
    "complete_features[27000]"
   ]
  },
  {
   "cell_type": "code",
   "execution_count": null,
   "metadata": {},
   "outputs": [],
   "source": []
  }
 ],
 "metadata": {
  "kernelspec": {
   "display_name": "Python 3",
   "language": "python",
   "name": "python3"
  },
  "language_info": {
   "codemirror_mode": {
    "name": "ipython",
    "version": 3
   },
   "file_extension": ".py",
   "mimetype": "text/x-python",
   "name": "python",
   "nbconvert_exporter": "python",
   "pygments_lexer": "ipython3",
   "version": "3.7.3"
  }
 },
 "nbformat": 4,
 "nbformat_minor": 2
}
