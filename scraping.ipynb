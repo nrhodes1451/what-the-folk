{
 "cells": [
  {
   "cell_type": "code",
   "execution_count": 1,
   "metadata": {},
   "outputs": [],
   "source": [
    "from bs4 import BeautifulSoup\n",
    "from urllib.request import Request, urlopen\n",
    "import pickle\n",
    "import re\n",
    "import itertools\n",
    "import time\n",
    "\n",
    "pages = [\"http://abcnotation.com/browseTunes?n=\"+\"0\"*(4-len(str(i))) + str(i) for i in range(1430)]\n",
    "head = {'User-Agent': 'Mozilla/5.0 (Macintosh; Intel Mac OS X 10_13_6) AppleWebKit/537.36 (KHTML, like Gecko) Chrome/70.0.3538.77 Safari/537.36'}\n",
    "\n",
    "def get_links(page):\n",
    "    print(page)\n",
    "    req = Request(page, headers=head)\n",
    "    webpage = urlopen(req).read()\n",
    "    source = BeautifulSoup(webpage, \"html.parser\")\n",
    "    links = source.select('pre a[href^=\"/tunePage\"]')\n",
    "    links = [\"http://abcnotation.com/\" + link.attrs['href'] for link in links]\n",
    "    return(links)\n",
    "\n",
    "def get_abcnot(link):\n",
    "    # print(link)\n",
    "    tune_req = Request(link, headers=head)\n",
    "    tune_webpage = urlopen(tune_req).read()\n",
    "    tune_source = BeautifulSoup(tune_webpage, \"html.parser\")\n",
    "    tune = tune_source.select('textarea')[0].text\n",
    "    return(tune)"
   ]
  },
  {
   "cell_type": "markdown",
   "metadata": {},
   "source": [
    "i = 0\n",
    "links = []\n",
    "while i < len(pages):\n",
    "    links.append(get_links(pages[i]))\n",
    "    i = i + 1\n",
    "    time.sleep(1)"
   ]
  },
  {
   "cell_type": "markdown",
   "metadata": {},
   "source": [
    "links = list(itertools.chain.from_iterable(links))\n",
    "pickle.dump(links, open(\"links.p\", \"wb\"))"
   ]
  },
  {
   "cell_type": "code",
   "execution_count": 27,
   "metadata": {},
   "outputs": [
    {
     "name": "stdout",
     "output_type": "stream",
     "text": [
      "285557\n"
     ]
    },
    {
     "data": {
      "text/plain": [
       "137917"
      ]
     },
     "execution_count": 27,
     "metadata": {},
     "output_type": "execute_result"
    }
   ],
   "source": [
    "links = pickle.load(open(\"pickle/links.p\", \"rb\" ))\n",
    "print(len(links))\n",
    "\n",
    "notes = pickle.load(open(\"pickle/notes100000-200000.p\", \"rb\" ))\n",
    "i = len(notes) + 100000\n",
    "len(notes) + 100000"
   ]
  },
  {
   "cell_type": "code",
   "execution_count": null,
   "metadata": {
    "scrolled": true
   },
   "outputs": [
    {
     "name": "stdout",
     "output_type": "stream",
     "text": [
      "137917\n",
      "137918\n",
      "137919\n",
      "137920\n",
      "137921\n",
      "137922\n",
      "137923\n",
      "137924\n",
      "137925\n",
      "137926\n",
      "137927\n",
      "137928\n",
      "137929\n",
      "137930\n",
      "137931\n",
      "137932\n",
      "137933\n",
      "137934\n",
      "137935\n",
      "137936\n",
      "137937\n",
      "137938\n",
      "137939\n",
      "137940\n",
      "137941\n",
      "137942\n",
      "137943\n",
      "137944\n",
      "137945\n",
      "137946\n",
      "137947\n",
      "137948\n",
      "137949\n",
      "137950\n"
     ]
    }
   ],
   "source": [
    "while i < len(links):\n",
    "    print(i)\n",
    "    note = get_abcnot(links[i])\n",
    "    notes.append(note)\n",
    "    i = i + 1\n",
    "    time.sleep(0.7)"
   ]
  },
  {
   "cell_type": "code",
   "execution_count": 15,
   "metadata": {},
   "outputs": [],
   "source": [
    "notes[:1]\n",
    "\n",
    "#pickle.dump(notes[:100000], open(\"pickle/notes1-100000.p\", \"wb\"))\n",
    "pickle.dump(notes, open(\"pickle/notes100000-200000.p\", \"wb\"))"
   ]
  },
  {
   "cell_type": "code",
   "execution_count": 14,
   "metadata": {},
   "outputs": [
    {
     "data": {
      "text/plain": [
       "137917"
      ]
     },
     "execution_count": 14,
     "metadata": {},
     "output_type": "execute_result"
    }
   ],
   "source": [
    "len(notes)"
   ]
  },
  {
   "cell_type": "code",
   "execution_count": 24,
   "metadata": {},
   "outputs": [],
   "source": [
    "\n",
    "#pickle.dump(notes[100000:200000], open(\"pickle/notes100000-200000.p\", \"wb\"))"
   ]
  },
  {
   "cell_type": "code",
   "execution_count": 20,
   "metadata": {},
   "outputs": [],
   "source": [
    "foo = [0,1,2,3,4,5]"
   ]
  }
 ],
 "metadata": {
  "kernelspec": {
   "display_name": "Python 3",
   "language": "python",
   "name": "python3"
  },
  "language_info": {
   "codemirror_mode": {
    "name": "ipython",
    "version": 3
   },
   "file_extension": ".py",
   "mimetype": "text/x-python",
   "name": "python",
   "nbconvert_exporter": "python",
   "pygments_lexer": "ipython3",
   "version": "3.6.8"
  }
 },
 "nbformat": 4,
 "nbformat_minor": 2
}
