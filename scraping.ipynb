{
 "cells": [
  {
   "cell_type": "code",
   "execution_count": 1,
   "metadata": {},
   "outputs": [],
   "source": [
    "from bs4 import BeautifulSoup\n",
    "from urllib.request import Request, urlopen\n",
    "import pickle\n",
    "import re\n",
    "import itertools\n",
    "import time\n",
    "\n",
    "pages = [\"http://abcnotation.com/browseTunes?n=\"+\"0\"*(4-len(str(i))) + str(i) for i in range(1430)]\n",
    "head = {'User-Agent': 'Mozilla/5.0 (Macintosh; Intel Mac OS X 10_13_6) AppleWebKit/537.36 (KHTML, like Gecko) Chrome/70.0.3538.77 Safari/537.36'}\n",
    "\n",
    "def get_links(page):\n",
    "    print(page)\n",
    "    req = Request(page, headers=head)\n",
    "    webpage = urlopen(req).read()\n",
    "    source = BeautifulSoup(webpage, \"html.parser\")\n",
    "    links = source.select('pre a[href^=\"/tunePage\"]')\n",
    "    links = [\"http://abcnotation.com/\" + link.attrs['href'] for link in links]\n",
    "    return(links)\n",
    "\n",
    "def get_abcnot(link):\n",
    "    # print(link)\n",
    "    tune_req = Request(link, headers=head)\n",
    "    tune_webpage = urlopen(tune_req).read()\n",
    "    tune_source = BeautifulSoup(tune_webpage, \"html.parser\")\n",
    "    tune = tune_source.select('textarea')[0].text\n",
    "    return(tune)"
   ]
  },
  {
   "cell_type": "markdown",
   "metadata": {},
   "source": [
    "i = 0\n",
    "links = []\n",
    "while i < len(pages):\n",
    "    links.append(get_links(pages[i]))\n",
    "    i = i + 1\n",
    "    time.sleep(1)"
   ]
  },
  {
   "cell_type": "markdown",
   "metadata": {},
   "source": [
    "links = list(itertools.chain.from_iterable(links))\n",
    "pickle.dump(links, open(\"links.p\", \"wb\"))"
   ]
  },
  {
   "cell_type": "code",
   "execution_count": 2,
   "metadata": {},
   "outputs": [
    {
     "name": "stdout",
     "output_type": "stream",
     "text": [
      "285557\n",
      "276722\n"
     ]
    }
   ],
   "source": [
    "links = pickle.load(open(\"pickle/links.p\", \"rb\" ))\n",
    "print(len(links))\n",
    "\n",
    "notes1 = pickle.load(open(\"pickle/notes1-100000.p\", \"rb\" ))\n",
    "notes2 = pickle.load(open(\"pickle/notes100000-200000.p\", \"rb\" ))\n",
    "notes3 = pickle.load(open(\"pickle/notes200000-.p\", \"rb\" ))\n",
    "\n",
    "notes = notes1 + notes2 + notes3\n",
    "i = len(notes)\n",
    "print(i)"
   ]
  },
  {
   "cell_type": "code",
   "execution_count": 33,
   "metadata": {
    "scrolled": true
   },
   "outputs": [
    {
     "name": "stdout",
     "output_type": "stream",
     "text": [
      "284500\n",
      "285000\n",
      "285500\n"
     ]
    }
   ],
   "source": [
    "while i < len(links):\n",
    "    if (i % 500 == 0):\n",
    "        print(i)\n",
    "    note = get_abcnot(links[i])\n",
    "    notes.append(note)\n",
    "    i = i + 1\n",
    "    time.sleep(0.7)"
   ]
  },
  {
   "cell_type": "code",
   "execution_count": 34,
   "metadata": {},
   "outputs": [],
   "source": [
    "pickle.dump(notes[:100000], open(\"pickle/notes1-100000.p\", \"wb\"))\n",
    "pickle.dump(notes[100000:200000], open(\"pickle/notes100000-200000.p\", \"wb\"))\n",
    "pickle.dump(notes[200000:], open(\"pickle/notes200000-.p\", \"wb\"))"
   ]
  },
  {
   "cell_type": "code",
   "execution_count": 35,
   "metadata": {},
   "outputs": [
    {
     "data": {
      "text/plain": [
       "285550"
      ]
     },
     "execution_count": 35,
     "metadata": {},
     "output_type": "execute_result"
    }
   ],
   "source": [
    "len(notes)"
   ]
  },
  {
   "cell_type": "code",
   "execution_count": 36,
   "metadata": {},
   "outputs": [
    {
     "data": {
      "text/plain": [
       "0.9999754865053212"
      ]
     },
     "execution_count": 36,
     "metadata": {},
     "output_type": "execute_result"
    }
   ],
   "source": [
    "len(notes)/len(links)"
   ]
  },
  {
   "cell_type": "code",
   "execution_count": 32,
   "metadata": {},
   "outputs": [],
   "source": [
    "i = i + 1"
   ]
  },
  {
   "cell_type": "code",
   "execution_count": 37,
   "metadata": {},
   "outputs": [
    {
     "data": {
      "text/plain": [
       "285557"
      ]
     },
     "execution_count": 37,
     "metadata": {},
     "output_type": "execute_result"
    }
   ],
   "source": [
    "i"
   ]
  },
  {
   "cell_type": "code",
   "execution_count": null,
   "metadata": {},
   "outputs": [],
   "source": []
  }
 ],
 "metadata": {
  "kernelspec": {
   "display_name": "Python 3",
   "language": "python",
   "name": "python3"
  }
 },
 "nbformat": 4,
 "nbformat_minor": 2
}
