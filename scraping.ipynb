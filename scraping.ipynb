{
 "cells": [
  {
   "cell_type": "code",
   "execution_count": 1,
   "metadata": {},
   "outputs": [],
   "source": [
    "from bs4 import BeautifulSoup\n",
    "from urllib.request import Request, urlopen\n",
    "import pickle\n",
    "import re\n",
    "import itertools\n",
    "import time\n",
    "\n",
    "pages = [\"http://abcnotation.com/browseTunes?n=\"+\"0\"*(4-len(str(i))) + str(i) for i in range(1430)]\n",
    "head = {'User-Agent': 'Mozilla/5.0 (Macintosh; Intel Mac OS X 10_13_6) AppleWebKit/537.36 (KHTML, like Gecko) Chrome/70.0.3538.77 Safari/537.36'}\n",
    "\n",
    "def get_links(page):\n",
    "    print(page)\n",
    "    req = Request(page, headers=head)\n",
    "    webpage = urlopen(req).read()\n",
    "    source = BeautifulSoup(webpage, \"html.parser\")\n",
    "    links = source.select('pre a[href^=\"/tunePage\"]')\n",
    "    links = [\"http://abcnotation.com/\" + link.attrs['href'] for link in links]\n",
    "    return(links)\n",
    "\n",
    "def get_abcnot(link):\n",
    "    # print(link)\n",
    "    tune_req = Request(link, headers=head)\n",
    "    tune_webpage = urlopen(tune_req).read()\n",
    "    tune_source = BeautifulSoup(tune_webpage, \"html.parser\")\n",
    "    tune = tune_source.select('textarea')[0].text\n",
    "    return(tune)"
   ]
  },
  {
   "cell_type": "markdown",
   "metadata": {},
   "source": [
    "i = 0\n",
    "links = []\n",
    "while i < len(pages):\n",
    "    links.append(get_links(pages[i]))\n",
    "    i = i + 1\n",
    "    time.sleep(1)"
   ]
  },
  {
   "cell_type": "markdown",
   "metadata": {},
   "source": [
    "links = list(itertools.chain.from_iterable(links))\n",
    "pickle.dump(links, open(\"links.p\", \"wb\"))"
   ]
  },
  {
   "cell_type": "code",
   "execution_count": 2,
   "metadata": {},
   "outputs": [
    {
     "name": "stdout",
     "output_type": "stream",
     "text": [
      "285557\n",
      "172420\n"
     ]
    }
   ],
   "source": [
    "links = pickle.load(open(\"pickle/links.p\", \"rb\" ))\n",
    "print(len(links))\n",
    "\n",
    "notes = pickle.load(open(\"pickle/notes100000-200000.p\", \"rb\" ))\n",
    "i = len(notes) + 100000\n",
    "print(i)"
   ]
  },
  {
   "cell_type": "code",
   "execution_count": 10,
   "metadata": {
    "scrolled": true
   },
   "outputs": [
    {
     "name": "stdout",
     "output_type": "stream",
     "text": [
      "188257\n",
      "188258\n"
     ]
    },
    {
     "ename": "KeyboardInterrupt",
     "evalue": "",
     "output_type": "error",
     "traceback": [
      "\u001b[1;31m---------------------------------------------------------------------------\u001b[0m",
      "\u001b[1;31mKeyboardInterrupt\u001b[0m                         Traceback (most recent call last)",
      "\u001b[1;32m<ipython-input-10-4abe39b04333>\u001b[0m in \u001b[0;36m<module>\u001b[1;34m\u001b[0m\n\u001b[0;32m      4\u001b[0m     \u001b[0mnotes\u001b[0m\u001b[1;33m.\u001b[0m\u001b[0mappend\u001b[0m\u001b[1;33m(\u001b[0m\u001b[0mnote\u001b[0m\u001b[1;33m)\u001b[0m\u001b[1;33m\u001b[0m\u001b[1;33m\u001b[0m\u001b[0m\n\u001b[0;32m      5\u001b[0m     \u001b[0mi\u001b[0m \u001b[1;33m=\u001b[0m \u001b[0mi\u001b[0m \u001b[1;33m+\u001b[0m \u001b[1;36m1\u001b[0m\u001b[1;33m\u001b[0m\u001b[1;33m\u001b[0m\u001b[0m\n\u001b[1;32m----> 6\u001b[1;33m     \u001b[0mtime\u001b[0m\u001b[1;33m.\u001b[0m\u001b[0msleep\u001b[0m\u001b[1;33m(\u001b[0m\u001b[1;36m0.7\u001b[0m\u001b[1;33m)\u001b[0m\u001b[1;33m\u001b[0m\u001b[1;33m\u001b[0m\u001b[0m\n\u001b[0m",
      "\u001b[1;31mKeyboardInterrupt\u001b[0m: "
     ]
    }
   ],
   "source": [
    "while i < len(links):\n",
    "    print(i)\n",
    "    note = get_abcnot(links[i])\n",
    "    notes.append(note)\n",
    "    i = i + 1\n",
    "    time.sleep(0.7)"
   ]
  },
  {
   "cell_type": "code",
   "execution_count": 9,
   "metadata": {},
   "outputs": [],
   "source": [
    "#pickle.dump(notes[:100000], open(\"pickle/notes1-100000.p\", \"wb\"))\n",
    "pickle.dump(notes, open(\"pickle/notes100000-200000.p\", \"wb\"))"
   ]
  },
  {
   "cell_type": "code",
   "execution_count": null,
   "metadata": {},
   "outputs": [],
   "source": []
  }
 ],
 "metadata": {
  "kernelspec": {
   "display_name": "Python 3",
   "language": "python",
   "name": "python3"
  },
  "language_info": {
   "codemirror_mode": {
    "name": "ipython",
    "version": 3
   },
   "file_extension": ".py",
   "mimetype": "text/x-python",
   "name": "python",
   "nbconvert_exporter": "python",
   "pygments_lexer": "ipython3",
   "version": "3.6.8"
  }
 },
 "nbformat": 4,
 "nbformat_minor": 2
}
